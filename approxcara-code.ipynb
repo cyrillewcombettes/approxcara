{
  "nbformat": 4,
  "nbformat_minor": 0,
  "metadata": {
    "colab": {
      "name": "approx-cara.ipynb",
      "provenance": [],
      "collapsed_sections": [],
      "toc_visible": true
    },
    "kernelspec": {
      "name": "python3",
      "display_name": "Python 3"
    }
  },
  "cells": [
    {
      "cell_type": "markdown",
      "metadata": {
        "id": "JPfXS8h6q9wM"
      },
      "source": [
        "This Python notebook contains the code to reproduce the experiments in our [paper](https://arxiv.org/pdf/1911.04415.pdf):\n",
        "> C. W. Combettes and S. Pokutta. Revisiting the Approximate Carathéodory Problem via the Frank-Wolfe Algorithm. *arXiv preprint arXiv:1911.04415*, 2019."
      ]
    },
    {
      "cell_type": "code",
      "metadata": {
        "id": "ZhbMFrtVWW9j"
      },
      "source": [
        "import matplotlib.pyplot as plt\n",
        "import numpy as np\n",
        "\n",
        "from itertools import compress\n",
        "from scipy.linalg import hadamard"
      ],
      "execution_count": null,
      "outputs": []
    },
    {
      "cell_type": "code",
      "metadata": {
        "id": "hvDhyUrVWXXq"
      },
      "source": [
        "labels = {'fw':'FW', 'nepfw':'NEP-FW', 'afw':'AFW', 'fcfw':'FCFW'}\n",
        "colors = {'fw':'tab:blue', 'nepfw':'tab:purple', 'afw':'tab:orange', 'fcfw':'tab:green'}\n",
        "\n",
        "def plotter(res, n, p, s, labels, colors, title, lower=False):\n",
        "    \n",
        "    fig = plt.figure()\n",
        "    fig.set_figheight(3)\n",
        "    fig.set_figwidth(3.5)\n",
        "\n",
        "    for alg in res.keys():\n",
        "        plt.plot(res[alg][2], res[alg][3], label=labels[alg], color=colors[alg])\n",
        "    if lower == True:\n",
        "        plt.plot(np.arange(1, n+1), [np.sqrt(1/s-1/n) for s in np.arange(1, n+1)], \n",
        "                 '--', color='tab:red', label='lower bound')\n",
        "    plt.axvline(x=s, linestyle='--', label='card$(x^*)$', color='black')\n",
        "    plt.yscale('log')\n",
        "    \n",
        "    plt.title(title)\n",
        "    plt.ylabel('$||x_t-x^*||_p$')\n",
        "    plt.xlabel('card$(x_t)$')\n",
        "    plt.legend()\n",
        "\n",
        "    plt.tick_params(which='minor', left=False)\n",
        "    plt.grid(linestyle=':')\n",
        "    \n",
        "    plt.show()"
      ],
      "execution_count": null,
      "outputs": []
    },
    {
      "cell_type": "markdown",
      "metadata": {
        "id": "Doz1c3QIW0MR"
      },
      "source": [
        "# Algorithms"
      ]
    },
    {
      "cell_type": "code",
      "metadata": {
        "id": "nPeI3pRrW4pE"
      },
      "source": [
        "def segment_search(f, grad_f, x, y, tol=1e-6, stepsize=True):\n",
        "    \n",
        "    '''\n",
        "    Minimizes f over [x, y], i.e., f(x+gamma*(y-x)) as a function of scalar gamma in [0,1]\n",
        "    '''\n",
        "    \n",
        "    # restrict segment of search to [x, y]\n",
        "    d = (y-x).copy()\n",
        "    left, right = x.copy(), y.copy()\n",
        "    \n",
        "    # if the minimum is at an endpoint\n",
        "    if np.dot(d, grad_f(x))*np.dot(d, grad_f(y)) >= 0:\n",
        "        if f(y) <= f(x):\n",
        "            return y, 1\n",
        "        else:\n",
        "            return x, 0\n",
        "    \n",
        "    # apply golden-section method to segment\n",
        "    gold = (1+np.sqrt(5))/2\n",
        "    improv = np.inf\n",
        "    while improv > tol:\n",
        "        old_left, old_right = left, right\n",
        "        new = left+(right-left)/(1+gold)\n",
        "        probe = new+(right-new)/2\n",
        "        if f(probe) <= f(new):\n",
        "            left, right = new, right\n",
        "        else:\n",
        "            left, right = left, probe\n",
        "        improv = np.linalg.norm(f(right)-f(old_right))+np.linalg.norm(f(left)-f(old_left))\n",
        "    x_min = (left+right)/2\n",
        "    \n",
        "    # compute step size gamma\n",
        "    gamma = 0\n",
        "    if stepsize == True:\n",
        "        for i in range(len(d)):\n",
        "            if d[i] != 0:\n",
        "                gamma = (x_min[i]-x[i])/d[i]\n",
        "                break\n",
        "                \n",
        "    return x_min, gamma\n",
        "\n",
        "def sigd(f, grad_f, x, S, alpha):\n",
        "    \n",
        "    '''\n",
        "    Simplex Gradient Descent\n",
        "    '''\n",
        "    \n",
        "    g = np.dot(S, grad_f(x))\n",
        "    e, k = np.ones(len(S)), len(S)\n",
        "    d = g-np.dot(g, e)*e/k\n",
        "    \n",
        "    if np.linalg.norm(d) == 0:\n",
        "        return S[0], [S[0]], [1]\n",
        "    \n",
        "    eta = np.inf\n",
        "    for i in range(len(alpha)):\n",
        "        if d[i] > 0:\n",
        "            eta = min(eta, alpha[i]/d[i])\n",
        "    beta = np.array(alpha)-eta*d\n",
        "    y = np.dot(beta, S)\n",
        "\n",
        "    if f(x) >= f(y):\n",
        "        idx = list(beta > 0)\n",
        "        return y, list(compress(S, idx)), list(compress(beta, idx))\n",
        "    \n",
        "    else:\n",
        "        x, gamma = segment_search(f, grad_f, x, y)\n",
        "        return x, S, list((1-gamma)*np.array(alpha)+gamma*beta)\n",
        "\n",
        "def find_index(v, S):\n",
        "    \n",
        "    for i in range(len(S)):\n",
        "        if np.all(S[i] == v):\n",
        "            return i\n",
        "        \n",
        "    return -1"
      ],
      "execution_count": null,
      "outputs": []
    },
    {
      "cell_type": "markdown",
      "metadata": {
        "id": "tRCCQs31W2Ln"
      },
      "source": [
        "## FW"
      ]
    },
    {
      "cell_type": "code",
      "metadata": {
        "id": "qeqfXf8gWXZv"
      },
      "source": [
        "def fw(V, p, x_star, f, grad_f, x, oracle, tol=1e-6, max_iter=np.inf):\n",
        "    \n",
        "    S, coefs, cards, vals = [x.copy()], [1], [1], [np.linalg.norm(x-x_star, p)]\n",
        "    \n",
        "    improv = np.inf\n",
        "    \n",
        "    while improv > tol and len(vals) < max_iter:\n",
        "\n",
        "        old = f(x)\n",
        "        \n",
        "        v = oracle['lmo'](grad_f(x), V)\n",
        "        x, gamma = segment_search(f, grad_f, x, v)\n",
        "        \n",
        "        idx = find_index(v, S)\n",
        "        if idx == -1:\n",
        "            S.append(v)\n",
        "            coefs = list((1-gamma)*np.array(coefs))+[gamma]\n",
        "        else:\n",
        "            coefs = list((1-gamma)*np.array(coefs))\n",
        "            coefs[idx] += gamma\n",
        "                \n",
        "        vals.append(np.linalg.norm(x-x_star, p))\n",
        "        cards.append(len(coefs))\n",
        "        \n",
        "        improv = (old-f(x))/old\n",
        "    \n",
        "    return x, coefs, cards, vals"
      ],
      "execution_count": null,
      "outputs": []
    },
    {
      "cell_type": "markdown",
      "metadata": {
        "id": "xOj6RANBXY-j"
      },
      "source": [
        "## NEP-FW"
      ]
    },
    {
      "cell_type": "code",
      "metadata": {
        "id": "vt-bll8xWXca"
      },
      "source": [
        "def nepfw(V, p, x_star, f, grad_f, x, oracle, tol=1e-6, max_iter=3000):\n",
        "    \n",
        "    S, coefs, cards, vals = [x.copy()], [1], [1], [np.linalg.norm(x-x_star, p)]\n",
        "    \n",
        "    improv = np.inf\n",
        "    \n",
        "    while improv > tol or len(vals) < max_iter:\n",
        "        \n",
        "        old = f(x)\n",
        "        \n",
        "        gamma = 2/(len(vals)+1)\n",
        "        gg = x-(1/((p-1)*gamma))*grad_f(x)\n",
        "        v = oracle['nepo'](gg, V)\n",
        "        x = (1-gamma)*x+gamma*v\n",
        "        \n",
        "        idx = find_index(v, S)\n",
        "        if idx == -1:\n",
        "            S.append(v)\n",
        "            coefs = list((1-gamma)*np.array(coefs))+[gamma]\n",
        "        else:\n",
        "            coefs = list((1-gamma)*np.array(coefs))\n",
        "            coefs[idx] += gamma\n",
        "                \n",
        "        vals.append(np.linalg.norm(x-x_star, p))\n",
        "        cards.append(len(coefs))\n",
        "        \n",
        "        improv = (old-f(x))/old\n",
        "    \n",
        "    return x, coefs, cards, vals"
      ],
      "execution_count": null,
      "outputs": []
    },
    {
      "cell_type": "markdown",
      "metadata": {
        "id": "mxOtrLHfYLhj"
      },
      "source": [
        "## AFW"
      ]
    },
    {
      "cell_type": "code",
      "metadata": {
        "id": "Dxz4avcXWXek"
      },
      "source": [
        "def afw(V, p, x_star, f, grad_f, x, oracle, tol=1e-6):\n",
        "    \n",
        "    S, coefs, cards, vals = [x.copy()], [1], [1], [np.linalg.norm(x-x_star, p)]\n",
        "    \n",
        "    improv = np.inf\n",
        "    \n",
        "    while improv > tol:\n",
        "\n",
        "        old = f(x)\n",
        "        \n",
        "        grad_f_x = grad_f(x)\n",
        "        v = oracle['lmo'](grad_f_x, V)\n",
        "        i_max = np.argmax(np.dot(S, grad_f_x))\n",
        "        a = S[i_max]\n",
        "        \n",
        "        if np.dot(grad_f_x, v-x) <= np.dot(grad_f_x, x-a):\n",
        "            x, gamma = segment_search(f, grad_f, x, v)\n",
        "            idx = find_index(v, S)\n",
        "            if idx == -1:\n",
        "                S.append(v)\n",
        "                coefs = list((1-gamma)*np.array(coefs))+[gamma]\n",
        "            else:\n",
        "                coefs = list((1-gamma)*np.array(coefs))\n",
        "                coefs[idx] += gamma\n",
        "        \n",
        "        else:\n",
        "            gamma_max = coefs[i_max]/(1-min(coefs[i_max], 0.99999))\n",
        "            x, gamma = segment_search(f, grad_f, x, (1+gamma_max)*x-gamma_max*a)\n",
        "            coefs = list((1+gamma*gamma_max)*np.array(coefs))\n",
        "            coefs[i_max] -= gamma*gamma_max\n",
        "            if gamma == 1:\n",
        "                del coefs[i_max]\n",
        "                del S[i_max]\n",
        "        \n",
        "        vals.append(np.linalg.norm(x-x_star, p))\n",
        "        cards.append(len(coefs))\n",
        "        \n",
        "        improv = (old-f(x))/old\n",
        "\n",
        "    return x, coefs, cards, vals"
      ],
      "execution_count": null,
      "outputs": []
    },
    {
      "cell_type": "markdown",
      "metadata": {
        "id": "5hgpqoqQYTc9"
      },
      "source": [
        "## FCFW"
      ]
    },
    {
      "cell_type": "code",
      "metadata": {
        "id": "wbjd1NfUWXgy"
      },
      "source": [
        "def fcfw(V, p, x_star, f, grad_f, x, oracle, sub_sigd=True, tol=1e-6, sub_tol=1e-6):\n",
        "    \n",
        "    S, coefs, cards, vals = [x.copy()], [1], [1], [np.linalg.norm(x-x_star, p)]\n",
        "    \n",
        "    improv = np.inf\n",
        "    \n",
        "    while improv > tol:\n",
        "\n",
        "        old = f(x)\n",
        "        \n",
        "        v = oracle['lmo'](grad_f(x), V)\n",
        "        x, gamma = segment_search(f, grad_f, x, v)\n",
        "        \n",
        "        idx = find_index(v, S)\n",
        "        if idx == -1:\n",
        "            S.append(v)\n",
        "            coefs = list((1-gamma)*np.array(coefs))+[gamma]\n",
        "        else:\n",
        "            coefs = list((1-gamma)*np.array(coefs))\n",
        "            coefs[idx] += gamma\n",
        "        \n",
        "        sub_improv = np.inf\n",
        "        \n",
        "        if sub_sigd:\n",
        "            \n",
        "            while sub_improv > sub_tol:\n",
        "                \n",
        "                sub_old = f(x)\n",
        "                \n",
        "                x, S, coefs = sigd(f, grad_f, x, S, coefs)\n",
        "                \n",
        "                sub_improv = (sub_old-f(x))/sub_old\n",
        "        \n",
        "        else:\n",
        "            \n",
        "            while sub_improv > sub_tol:\n",
        "\n",
        "                sub_old = f(x)\n",
        "\n",
        "                idx = np.argmin(np.dot(S, grad_f(x)))\n",
        "                v = S[idx]\n",
        "                x, gamma = segment_search(f, grad_f, x, v)\n",
        "                coefs = list((1-gamma)*np.array(coefs))\n",
        "                coefs[idx] += gamma\n",
        "\n",
        "                sub_improv = (sub_old-f(x))/sub_old\n",
        "                \n",
        "        vals.append(np.linalg.norm(x-x_star, p))\n",
        "        cards.append(len(coefs))\n",
        "        \n",
        "        improv = (old-f(x))/old\n",
        "    \n",
        "    return x, coefs, cards, vals"
      ],
      "execution_count": null,
      "outputs": []
    },
    {
      "cell_type": "markdown",
      "metadata": {
        "id": "OL4Fp3iVYiqh"
      },
      "source": [
        "# Computational experiments"
      ]
    },
    {
      "cell_type": "code",
      "metadata": {
        "id": "Wpo7uKQ_WXjC"
      },
      "source": [
        "def experiment(n, p, s=None, hdmrd=False):\n",
        "    \n",
        "    if not hdmrd:\n",
        "    \n",
        "        V = np.random.random((n+1, n)) # each row is a \"vertex\" of the problem\n",
        "\n",
        "        if not s:\n",
        "\n",
        "            coefs_star = np.random.random(n+1)\n",
        "            coefs_star /= np.sum(coefs_star)\n",
        "            x_star = np.dot(coefs_star, V)\n",
        "\n",
        "        else:\n",
        "\n",
        "            coefs_star = np.random.random(s)\n",
        "            coefs_star /= np.sum(coefs_star)\n",
        "            nz = np.random.choice(n, s, replace=False)\n",
        "            idx = np.isin(np.arange(n), nz)\n",
        "            x_star = np.dot(coefs_star, list(compress(V, idx)))\n",
        "    \n",
        "    else:\n",
        "    \n",
        "        H = hadamard(n)/n**(1/p)\n",
        "        V = np.transpose(H) # each row is a \"vertex\" of the problem\n",
        "\n",
        "        x_star = np.identity(n)[0]/n**(1/p)\n",
        "\n",
        "    def f(x):\n",
        "        return (1/2)*np.linalg.norm(x-x_star, p)**2\n",
        "\n",
        "    def grad_f(x):\n",
        "        return np.linalg.norm(x-x_star, p)**(2-p)*np.sign(x-x_star)*np.abs(x-x_star)**(p-1)\n",
        "\n",
        "    def lmo(g, V):\n",
        "        return V[np.argmin(np.dot(V, g))]\n",
        "\n",
        "    def nepo(gg, V):\n",
        "        return V[np.argmin([np.linalg.norm(v-gg)**2 for v in V])]\n",
        "\n",
        "    x = V[0].copy()\n",
        "    \n",
        "    oracle = {'lmo':lmo, 'nepo':nepo}\n",
        "    \n",
        "    return V, p, x_star, f, grad_f, x, oracle"
      ],
      "execution_count": null,
      "outputs": []
    },
    {
      "cell_type": "markdown",
      "metadata": {
        "id": "C-zlkLHmY38C"
      },
      "source": [
        "## Figure 1"
      ]
    },
    {
      "cell_type": "markdown",
      "metadata": {
        "id": "ITZDD44PLWl6"
      },
      "source": [
        "### Dense $x^*$, $p=2$"
      ]
    },
    {
      "cell_type": "code",
      "metadata": {
        "id": "uZyHhmLsYfCB"
      },
      "source": [
        "n, p = 500, 2\n",
        "s = n+1\n",
        "\n",
        "args = experiment(n, p)"
      ],
      "execution_count": 4,
      "outputs": []
    },
    {
      "cell_type": "code",
      "metadata": {
        "colab": {
          "base_uri": "https://localhost:8080/"
        },
        "id": "qLeW3znTYfEO",
        "outputId": "97774618-07ef-4937-8841-572220bfbb05"
      },
      "source": [
        "res = {}\n",
        "\n",
        "print('FW')\n",
        "res['fw'] = fw(*args)\n",
        "print('NEP-FW')\n",
        "res['nepfw'] = nepfw(*args, max_iter=4000)\n",
        "print('AFW')\n",
        "res['afw'] = afw(*args)\n",
        "print('FCFW')\n",
        "res['fcfw'] = fcfw(*args)"
      ],
      "execution_count": null,
      "outputs": [
        {
          "output_type": "stream",
          "text": [
            "FW\n",
            "NEP-FW\n",
            "AFW\n",
            "FCFW\n"
          ],
          "name": "stdout"
        }
      ]
    },
    {
      "cell_type": "code",
      "metadata": {
        "colab": {
          "base_uri": "https://localhost:8080/",
          "height": 248
        },
        "id": "Nvmneyq0YfGb",
        "outputId": "accefeb1-325d-41a5-a11c-14ac5a1b875d"
      },
      "source": [
        "plotter(res, n, p, s, labels, colors, title='Dense $x^*$, $p=2$')"
      ],
      "execution_count": null,
      "outputs": [
        {
          "output_type": "display_data",
          "data": {
            "image/png": "[encoded data removed]",
            "text/plain": [
              "<Figure size 252x216 with 1 Axes>"
            ]
          },
          "metadata": {
            "tags": [],
            "needs_background": "light"
          }
        }
      ]
    },
    {
      "cell_type": "code",
      "metadata": {
        "colab": {
          "base_uri": "https://localhost:8080/"
        },
        "id": "Dz0K-5bgYfIV",
        "outputId": "876155d5-2903-47b5-94b4-975f0ecf6722"
      },
      "source": [
        "for alg in res.keys():\n",
        "    print(alg, res[alg][2][np.argmax(np.array(res[alg][3]) < 0.02)])"
      ],
      "execution_count": null,
      "outputs": [
        {
          "output_type": "stream",
          "text": [
            "fw 467\n",
            "nepfw 497\n",
            "afw 456\n",
            "fcfw 369\n"
          ],
          "name": "stdout"
        }
      ]
    },
    {
      "cell_type": "markdown",
      "metadata": {
        "id": "iZjIOeGsZuBX"
      },
      "source": [
        "### Sparse $x^*$, $p=2$"
      ]
    },
    {
      "cell_type": "code",
      "metadata": {
        "id": "zqDRMaAjYfKj"
      },
      "source": [
        "n, p = 500, 2\n",
        "s = int(n/20)\n",
        "\n",
        "args = experiment(n, p, s)"
      ],
      "execution_count": null,
      "outputs": []
    },
    {
      "cell_type": "code",
      "metadata": {
        "colab": {
          "base_uri": "https://localhost:8080/"
        },
        "id": "qBt6ukRkZsPB",
        "outputId": "5c9ca138-b5ff-45f8-e839-d3b909ea4ac3"
      },
      "source": [
        "res = {}\n",
        "\n",
        "print('FW')\n",
        "res['fw'] = fw(*args, tol=-np.inf, max_iter=15000)\n",
        "print('NEP-FW')\n",
        "res['nepfw'] = nepfw(*args)\n",
        "print('AFW')\n",
        "res['afw'] = afw(*args)\n",
        "print('FCFW')\n",
        "res['fcfw'] = fcfw(*args)"
      ],
      "execution_count": null,
      "outputs": [
        {
          "output_type": "stream",
          "text": [
            "FW\n",
            "NEP-FW\n",
            "AFW\n",
            "FCFW\n"
          ],
          "name": "stdout"
        }
      ]
    },
    {
      "cell_type": "code",
      "metadata": {
        "colab": {
          "base_uri": "https://localhost:8080/",
          "height": 248
        },
        "id": "UNuojIaeZsQ5",
        "outputId": "2bfb9813-3130-4d6b-a84d-8f8a5b7241d3"
      },
      "source": [
        "plotter(res, n, p, s, labels, colors, title='Sparse $x^*$, $p=2$')"
      ],
      "execution_count": null,
      "outputs": [
        {
          "output_type": "display_data",
          "data": {
            "image/png": "[encoded data removed]",
            "text/plain": [
              "<Figure size 252x216 with 1 Axes>"
            ]
          },
          "metadata": {
            "tags": [],
            "needs_background": "light"
          }
        }
      ]
    },
    {
      "cell_type": "code",
      "metadata": {
        "colab": {
          "base_uri": "https://localhost:8080/"
        },
        "id": "2--9sL8mZsTe",
        "outputId": "b168cca6-4b27-457b-a38a-0b06a23ec783"
      },
      "source": [
        "for alg in res.keys():\n",
        "    print(alg, res[alg][2][np.argmax(np.array(res[alg][3]) < 0.02)])"
      ],
      "execution_count": null,
      "outputs": [
        {
          "output_type": "stream",
          "text": [
            "fw 40\n",
            "nepfw 26\n",
            "afw 26\n",
            "fcfw 24\n"
          ],
          "name": "stdout"
        }
      ]
    },
    {
      "cell_type": "markdown",
      "metadata": {
        "id": "3Mf7PBpZc72x"
      },
      "source": [
        "### Dense $x^*$, $p=3$"
      ]
    },
    {
      "cell_type": "code",
      "metadata": {
        "id": "WuyQlgvvYfMS"
      },
      "source": [
        "n, p = 500, 3\n",
        "s = n+1\n",
        "\n",
        "args = experiment(n, p)"
      ],
      "execution_count": null,
      "outputs": []
    },
    {
      "cell_type": "code",
      "metadata": {
        "colab": {
          "base_uri": "https://localhost:8080/"
        },
        "id": "WBxqk7omcfb3",
        "outputId": "21fdc108-c2af-4fea-82b0-7cbe84ee7576"
      },
      "source": [
        "res = {}\n",
        "\n",
        "print('FW')\n",
        "res['fw'] = fw(*args)\n",
        "print('NEP-FW')\n",
        "res['nepfw'] = nepfw(*args)\n",
        "print('AFW')\n",
        "res['afw'] = afw(*args)\n",
        "print('FCFW')\n",
        "res['fcfw'] = fcfw(*args)"
      ],
      "execution_count": null,
      "outputs": [
        {
          "output_type": "stream",
          "text": [
            "FW\n",
            "NEP-FW\n",
            "AFW\n",
            "FCFW\n"
          ],
          "name": "stdout"
        }
      ]
    },
    {
      "cell_type": "code",
      "metadata": {
        "colab": {
          "base_uri": "https://localhost:8080/",
          "height": 248
        },
        "id": "cgorbrFNcfdm",
        "outputId": "d9a74fd3-9cb4-4373-863c-5a79e1b8d89e"
      },
      "source": [
        "plotter(res, n, p, s, labels, colors, title='Dense $x^*$, $p=3$')"
      ],
      "execution_count": null,
      "outputs": [
        {
          "output_type": "display_data",
          "data": {
            "image/png": "[encoded data removed]",
            "text/plain": [
              "<Figure size 252x216 with 1 Axes>"
            ]
          },
          "metadata": {
            "tags": [],
            "needs_background": "light"
          }
        }
      ]
    },
    {
      "cell_type": "code",
      "metadata": {
        "colab": {
          "base_uri": "https://localhost:8080/"
        },
        "id": "90wvhmq7cffs",
        "outputId": "01f5ada9-ee64-4e43-a2d3-26afe57785de"
      },
      "source": [
        "for alg in res.keys():\n",
        "    print(alg, res[alg][2][np.argmax(np.array(res[alg][3]) < 0.02)])"
      ],
      "execution_count": null,
      "outputs": [
        {
          "output_type": "stream",
          "text": [
            "fw 413\n",
            "nepfw 433\n",
            "afw 391\n",
            "fcfw 279\n"
          ],
          "name": "stdout"
        }
      ]
    },
    {
      "cell_type": "markdown",
      "metadata": {
        "id": "5aSmOfUZeTPJ"
      },
      "source": [
        "### Sparse $x^*$, $p=3$\n"
      ]
    },
    {
      "cell_type": "code",
      "metadata": {
        "id": "6IiGH-RccfhS"
      },
      "source": [
        "n, p = 500, 3\n",
        "s = int(n/20)\n",
        "\n",
        "args = experiment(n, p, s)"
      ],
      "execution_count": null,
      "outputs": []
    },
    {
      "cell_type": "code",
      "metadata": {
        "colab": {
          "base_uri": "https://localhost:8080/"
        },
        "id": "DnoL0apHcfi8",
        "outputId": "fc40ad54-52a6-4c1a-ab94-34459fb5e920"
      },
      "source": [
        "res = {}\n",
        "\n",
        "print('FW')\n",
        "res['fw'] = fw(*args)\n",
        "print('NEP-FW')\n",
        "res['nepfw'] = nepfw(*args)\n",
        "print('AFW')\n",
        "res['afw'] = afw(*args)\n",
        "print('FCFW')\n",
        "res['fcfw'] = fcfw(*args)"
      ],
      "execution_count": null,
      "outputs": [
        {
          "output_type": "stream",
          "text": [
            "FW\n",
            "NEP-FW\n",
            "AFW\n",
            "FCFW\n"
          ],
          "name": "stdout"
        }
      ]
    },
    {
      "cell_type": "code",
      "metadata": {
        "colab": {
          "base_uri": "https://localhost:8080/",
          "height": 248
        },
        "id": "XhjkEyhkcfl2",
        "outputId": "8626c242-54bf-4a2c-898c-f8bb2bd42b4b"
      },
      "source": [
        "plotter(res, n, p, s, labels, colors, title='Sparse $x^*$, $p=3$')"
      ],
      "execution_count": null,
      "outputs": [
        {
          "output_type": "display_data",
          "data": {
            "image/png": "[encoded data removed]",
            "text/plain": [
              "<Figure size 252x216 with 1 Axes>"
            ]
          },
          "metadata": {
            "tags": [],
            "needs_background": "light"
          }
        }
      ]
    },
    {
      "cell_type": "code",
      "metadata": {
        "colab": {
          "base_uri": "https://localhost:8080/"
        },
        "id": "1_2nQmHkYfPG",
        "outputId": "76574d13-0aa2-4487-9c54-6f2778d4c83e"
      },
      "source": [
        "for alg in res.keys():\n",
        "    print(alg, res[alg][2][np.argmax(np.array(res[alg][3]) < 0.02)])"
      ],
      "execution_count": null,
      "outputs": [
        {
          "output_type": "stream",
          "text": [
            "fw 41\n",
            "nepfw 28\n",
            "afw 26\n",
            "fcfw 25\n"
          ],
          "name": "stdout"
        }
      ]
    },
    {
      "cell_type": "markdown",
      "metadata": {
        "id": "Iig3lcOTe6e1"
      },
      "source": [
        "### Dense $x^*$, $p=7$"
      ]
    },
    {
      "cell_type": "code",
      "metadata": {
        "id": "_GjWhQh1WXlU"
      },
      "source": [
        "n, p = 500, 7\n",
        "s = n+1\n",
        "\n",
        "args = experiment(n, p)"
      ],
      "execution_count": null,
      "outputs": []
    },
    {
      "cell_type": "code",
      "metadata": {
        "colab": {
          "base_uri": "https://localhost:8080/"
        },
        "id": "NwzQ-n-Oez0M",
        "outputId": "38c0960a-0e76-4457-fcf1-eb4f0c0f4744"
      },
      "source": [
        "res = {}\n",
        "\n",
        "print('FW')\n",
        "res['fw'] = fw(*args)\n",
        "print('NEP-FW')\n",
        "res['nepfw'] = nepfw(*args, max_iter=15000)\n",
        "print('AFW')\n",
        "res['afw'] = afw(*args)\n",
        "print('FCFW')\n",
        "res['fcfw'] = fcfw(*args)"
      ],
      "execution_count": null,
      "outputs": [
        {
          "output_type": "stream",
          "text": [
            "FW\n",
            "NEP-FW\n",
            "AFW\n",
            "FCFW\n"
          ],
          "name": "stdout"
        }
      ]
    },
    {
      "cell_type": "code",
      "metadata": {
        "colab": {
          "base_uri": "https://localhost:8080/",
          "height": 248
        },
        "id": "HEmi7E-Vez2W",
        "outputId": "99c6d03e-c0ee-42c9-9654-7a3ef784181e"
      },
      "source": [
        "plotter(res, n, p, s, labels, colors, title='Dense $x^*$, $p=7$')"
      ],
      "execution_count": null,
      "outputs": [
        {
          "output_type": "display_data",
          "data": {
            "image/png": "[encoded data removed]",
            "text/plain": [
              "<Figure size 252x216 with 1 Axes>"
            ]
          },
          "metadata": {
            "tags": [],
            "needs_background": "light"
          }
        }
      ]
    },
    {
      "cell_type": "code",
      "metadata": {
        "colab": {
          "base_uri": "https://localhost:8080/"
        },
        "id": "x9cjJGhbez3-",
        "outputId": "5083949d-8f6d-4c20-aa53-e0d53f6daf91"
      },
      "source": [
        "for alg in res.keys():\n",
        "    print(alg, res[alg][2][np.argmax(np.array(res[alg][3]) < 0.02)])"
      ],
      "execution_count": null,
      "outputs": [
        {
          "output_type": "stream",
          "text": [
            "fw 334\n",
            "nepfw 302\n",
            "afw 313\n",
            "fcfw 171\n"
          ],
          "name": "stdout"
        }
      ]
    },
    {
      "cell_type": "markdown",
      "metadata": {
        "id": "PZ9LADYVfTQI"
      },
      "source": [
        "### Sparse $x^*$, $p=7$"
      ]
    },
    {
      "cell_type": "code",
      "metadata": {
        "id": "dsDY4VkifAMj"
      },
      "source": [
        "n, p = 500, 7\n",
        "s = int(n/20)\n",
        "\n",
        "args = experiment(n, p, s)"
      ],
      "execution_count": null,
      "outputs": []
    },
    {
      "cell_type": "code",
      "metadata": {
        "colab": {
          "base_uri": "https://localhost:8080/"
        },
        "id": "QibKMzjTfAOG",
        "outputId": "4dca49eb-47bd-413e-f51c-11e439e7f1fc"
      },
      "source": [
        "res = {}\n",
        "\n",
        "print('FW')\n",
        "res['fw'] = fw(*args)\n",
        "print('NEP-FW')\n",
        "res['nepfw'] = nepfw(*args, max_iter=5000)\n",
        "print('AFW')\n",
        "res['afw'] = afw(*args)\n",
        "print('FCFW')\n",
        "res['fcfw'] = fcfw(*args)"
      ],
      "execution_count": null,
      "outputs": [
        {
          "output_type": "stream",
          "text": [
            "FW\n",
            "NEP-FW\n",
            "AFW\n",
            "FCFW\n"
          ],
          "name": "stdout"
        }
      ]
    },
    {
      "cell_type": "code",
      "metadata": {
        "colab": {
          "base_uri": "https://localhost:8080/",
          "height": 248
        },
        "id": "2tVnyb2zfAQS",
        "outputId": "09607785-0e2d-439f-bf78-860b2b4f3e94"
      },
      "source": [
        "plotter(res, n, p, s, labels, colors, title='Sparse $x^*$, $p=7$')"
      ],
      "execution_count": null,
      "outputs": [
        {
          "output_type": "display_data",
          "data": {
            "image/png": "[encoded data removed]",
            "text/plain": [
              "<Figure size 252x216 with 1 Axes>"
            ]
          },
          "metadata": {
            "tags": [],
            "needs_background": "light"
          }
        }
      ]
    },
    {
      "cell_type": "code",
      "metadata": {
        "colab": {
          "base_uri": "https://localhost:8080/"
        },
        "id": "WGWTkvYxfATA",
        "outputId": "afebaa10-3b21-4e57-8869-ee415cd01226"
      },
      "source": [
        "for alg in res.keys():\n",
        "    print(alg, res[alg][2][np.argmax(np.array(res[alg][3]) < 0.02)])"
      ],
      "execution_count": null,
      "outputs": [
        {
          "output_type": "stream",
          "text": [
            "fw 44\n",
            "nepfw 33\n",
            "afw 30\n",
            "fcfw 25\n"
          ],
          "name": "stdout"
        }
      ]
    },
    {
      "cell_type": "markdown",
      "metadata": {
        "id": "-73YYZyufkNF"
      },
      "source": [
        "## Figure 2"
      ]
    },
    {
      "cell_type": "markdown",
      "metadata": {
        "id": "UhatJvQPLlaG"
      },
      "source": [
        "### $p=4$"
      ]
    },
    {
      "cell_type": "code",
      "metadata": {
        "id": "5dy1QdTOffF_"
      },
      "source": [
        "n, p = 2**6, 4\n",
        "s = n\n",
        "\n",
        "args = experiment(n, p, hdmrd=True)"
      ],
      "execution_count": null,
      "outputs": []
    },
    {
      "cell_type": "code",
      "metadata": {
        "colab": {
          "base_uri": "https://localhost:8080/"
        },
        "id": "lYgV2TESffIv",
        "outputId": "3f101f9a-b20a-4980-a4b9-0a24b118c7cb"
      },
      "source": [
        "res = {}\n",
        "\n",
        "print('FW')\n",
        "res['fw'] = fw(*args)\n",
        "print('AFW')\n",
        "res['afw'] = afw(*args)\n",
        "print('FCFW')\n",
        "res['fcfw'] = fcfw(*args, sub_sigd=False)"
      ],
      "execution_count": null,
      "outputs": [
        {
          "output_type": "stream",
          "text": [
            "FW\n",
            "AFW\n",
            "FCFW\n"
          ],
          "name": "stdout"
        }
      ]
    },
    {
      "cell_type": "code",
      "metadata": {
        "colab": {
          "base_uri": "https://localhost:8080/",
          "height": 246
        },
        "id": "4TwA9Z2TfAiJ",
        "outputId": "c53cb7e1-1870-4e4e-f1af-be39451d8bb2"
      },
      "source": [
        "plotter(res, n, p, s, labels, colors, title='$p=4$', lower=True)"
      ],
      "execution_count": null,
      "outputs": [
        {
          "output_type": "display_data",
          "data": {
            "image/png": "[encoded data removed]",
            "text/plain": [
              "<Figure size 252x216 with 1 Axes>"
            ]
          },
          "metadata": {
            "tags": [],
            "needs_background": "light"
          }
        }
      ]
    },
    {
      "cell_type": "markdown",
      "metadata": {
        "id": "eAzO09uxs-CR"
      },
      "source": [
        "### $p=13$"
      ]
    },
    {
      "cell_type": "code",
      "metadata": {
        "id": "aFazBNsYs2j6"
      },
      "source": [
        "n, p = 2**6, 13\n",
        "s = n\n",
        "\n",
        "args = experiment(n, p, hdmrd=True)"
      ],
      "execution_count": null,
      "outputs": []
    },
    {
      "cell_type": "code",
      "metadata": {
        "colab": {
          "base_uri": "https://localhost:8080/"
        },
        "id": "dFiBkuNfs2xe",
        "outputId": "689c16de-e8c1-41a8-c126-3d06afec36b5"
      },
      "source": [
        "res = {}\n",
        "\n",
        "print('FW')\n",
        "res['fw'] = fw(*args)\n",
        "print('AFW')\n",
        "res['afw'] = afw(*args)\n",
        "print('FCFW')\n",
        "res['fcfw'] = fcfw(*args, sub_sigd=False)"
      ],
      "execution_count": null,
      "outputs": [
        {
          "output_type": "stream",
          "text": [
            "FW\n",
            "NEP-FW\n",
            "AFW\n",
            "FCFW\n"
          ],
          "name": "stdout"
        }
      ]
    },
    {
      "cell_type": "code",
      "metadata": {
        "colab": {
          "base_uri": "https://localhost:8080/",
          "height": 246
        },
        "id": "dTzlMf8ys20M",
        "outputId": "548bbd11-98fa-40e3-ef06-3e2c653f4bc5"
      },
      "source": [
        "plotter(res, n, p, s, labels, colors, title='$p=13$', lower=True)"
      ],
      "execution_count": null,
      "outputs": [
        {
          "output_type": "display_data",
          "data": {
            "image/png": "[encoded data removed]",
            "text/plain": [
              "<Figure size 252x216 with 1 Axes>"
            ]
          },
          "metadata": {
            "tags": [],
            "needs_background": "light"
          }
        }
      ]
    },
    {
      "cell_type": "code",
      "metadata": {
        "id": "gkhebXrts246"
      },
      "source": [
        ""
      ],
      "execution_count": null,
      "outputs": []
    }
  ]
}